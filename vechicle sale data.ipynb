{
 "cells": [
  {
   "cell_type": "code",
   "execution_count": 1,
   "id": "07989602",
   "metadata": {},
   "outputs": [
    {
     "name": "stdout",
     "output_type": "stream",
     "text": [
      "Classification Report:\n",
      "              precision    recall  f1-score   support\n",
      "\n",
      "  Sales_High       0.29      0.22      0.25        99\n",
      "   Sales_Low       0.29      0.40      0.33        93\n",
      "Sales_Medium       0.40      0.36      0.38       108\n",
      "\n",
      "    accuracy                           0.33       300\n",
      "   macro avg       0.33      0.33      0.32       300\n",
      "weighted avg       0.33      0.33      0.32       300\n",
      "\n",
      "Accuracy: 0.33\n"
     ]
    }
   ],
   "source": [
    "import numpy as np\n",
    "import pandas as pd\n",
    "from sklearn.model_selection import train_test_split\n",
    "from sklearn.ensemble import RandomForestClassifier\n",
    "from sklearn.metrics import classification_report, accuracy_score\n",
    "\n",
    "# Step 1: Generate Synthetic Data\n",
    "\n",
    "# Define the number of years and number of samples\n",
    "years = np.arange(2010, 2025)\n",
    "n_samples = 1000\n",
    "\n",
    "# Create synthetic feature data\n",
    "np.random.seed(42)\n",
    "data = {\n",
    "    'Year': np.random.choice(years, n_samples),\n",
    "    'Region': np.random.choice(['North America', 'Europe', 'Asia'], n_samples),\n",
    "    'Price': np.random.uniform(30000, 80000, n_samples),\n",
    "    'Battery Capacity': np.random.uniform(40, 100, n_samples),\n",
    "    'Sales': np.random.choice(['High', 'Medium', 'Low'], n_samples)\n",
    "}\n",
    "\n",
    "df = pd.DataFrame(data)\n",
    "\n",
    "# Convert categorical features to numerical\n",
    "df = pd.get_dummies(df, columns=['Region', 'Sales'])\n",
    "\n",
    "# Define features and target\n",
    "X = df.drop(columns=['Sales_High', 'Sales_Medium', 'Sales_Low'])\n",
    "y = df[['Sales_High', 'Sales_Medium', 'Sales_Low']].idxmax(axis=1)\n",
    "\n",
    "# Step 2: Train a Random Classifier\n",
    "\n",
    "# Split data into training and testing sets\n",
    "X_train, X_test, y_train, y_test = train_test_split(X, y, test_size=0.3, random_state=42)\n",
    "\n",
    "# Initialize the Random Forest Classifier\n",
    "clf = RandomForestClassifier(n_estimators=100, random_state=42)\n",
    "\n",
    "# Train the classifier\n",
    "clf.fit(X_train, y_train)\n",
    "\n",
    "# Step 3: Evaluate the Classifier\n",
    "\n",
    "# Make predictions\n",
    "y_pred = clf.predict(X_test)\n",
    "\n",
    "# Print classification report and accuracy\n",
    "print(\"Classification Report:\")\n",
    "print(classification_report(y_test, y_pred))\n",
    "print(f\"Accuracy: {accuracy_score(y_test, y_pred):.2f}\")"
   ]
  },
  {
   "cell_type": "code",
   "execution_count": null,
   "id": "04a3e21b",
   "metadata": {},
   "outputs": [],
   "source": []
  }
 ],
 "metadata": {
  "kernelspec": {
   "display_name": "Python 3 (ipykernel)",
   "language": "python",
   "name": "python3"
  },
  "language_info": {
   "codemirror_mode": {
    "name": "ipython",
    "version": 3
   },
   "file_extension": ".py",
   "mimetype": "text/x-python",
   "name": "python",
   "nbconvert_exporter": "python",
   "pygments_lexer": "ipython3",
   "version": "3.11.5"
  }
 },
 "nbformat": 4,
 "nbformat_minor": 5
}
